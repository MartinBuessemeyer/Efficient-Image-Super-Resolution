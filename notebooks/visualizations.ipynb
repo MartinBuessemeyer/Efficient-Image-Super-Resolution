{
 "cells": [
  {
   "cell_type": "code",
   "execution_count": 4,
   "id": "e0f4bd60-51d8-425b-a8e6-6e3d251d24c7",
   "metadata": {},
   "outputs": [],
   "source": [
    "import pandas as pd\n",
    "import numpy as np\n",
    "import matplotlib.pyplot as plt\n",
    "from pathlib import Path\n",
    "\n",
    "%config Completer.use_jedi = False"
   ]
  },
  {
   "cell_type": "code",
   "execution_count": 5,
   "id": "b9948c35-5b85-4367-b0eb-b1e0ecf60303",
   "metadata": {},
   "outputs": [],
   "source": [
    "def combine_column_and_file_name(column, file):\n",
    "    return f'{file}_{column}'"
   ]
  },
  {
   "cell_type": "code",
   "execution_count": 10,
   "id": "171b5bc5-0a01-40f3-bcc3-c13cc4ee8cd1",
   "metadata": {},
   "outputs": [],
   "source": [
    "def get_data(columns: list[str]):\n",
    "    base_dir = Path('./experiment')\n",
    "    csv_files = base_dir.glob('*.csv')\n",
    "    dfs = {file.name: pd.read_csv(file) for file in csv_files}\n",
    "    res_df = pd.DataFrame()\n",
    "    for file_name, df in dfs.items():\n",
    "        for column in columns:\n",
    "            res_df[combine_column_and_file_name(file_name, column)] = df[column]\n",
    "    return res_df"
   ]
  },
  {
   "cell_type": "code",
   "execution_count": 11,
   "id": "cc6f6ef7-fc8c-46fc-a157-d36379cbafd6",
   "metadata": {},
   "outputs": [
    {
     "data": {
      "text/html": [
       "<div>\n",
       "<style scoped>\n",
       "    .dataframe tbody tr th:only-of-type {\n",
       "        vertical-align: middle;\n",
       "    }\n",
       "\n",
       "    .dataframe tbody tr th {\n",
       "        vertical-align: top;\n",
       "    }\n",
       "\n",
       "    .dataframe thead th {\n",
       "        text-align: right;\n",
       "    }\n",
       "</style>\n",
       "<table border=\"1\" class=\"dataframe\">\n",
       "  <thead>\n",
       "    <tr style=\"text-align: right;\">\n",
       "      <th></th>\n",
       "    </tr>\n",
       "  </thead>\n",
       "  <tbody>\n",
       "  </tbody>\n",
       "</table>\n",
       "</div>"
      ],
      "text/plain": [
       "Empty DataFrame\n",
       "Columns: []\n",
       "Index: []"
      ]
     },
     "execution_count": 11,
     "metadata": {},
     "output_type": "execute_result"
    }
   ],
   "source": []
  },
  {
   "cell_type": "code",
   "execution_count": null,
   "id": "432b87ba-a480-402e-8a59-ef3f24201f12",
   "metadata": {},
   "outputs": [],
   "source": []
  }
 ],
 "metadata": {
  "kernelspec": {
   "display_name": "Python 3 (ipykernel)",
   "language": "python",
   "name": "python3"
  },
  "language_info": {
   "codemirror_mode": {
    "name": "ipython",
    "version": 3
   },
   "file_extension": ".py",
   "mimetype": "text/x-python",
   "name": "python",
   "nbconvert_exporter": "python",
   "pygments_lexer": "ipython3",
   "version": "3.9.9"
  }
 },
 "nbformat": 4,
 "nbformat_minor": 5
}
