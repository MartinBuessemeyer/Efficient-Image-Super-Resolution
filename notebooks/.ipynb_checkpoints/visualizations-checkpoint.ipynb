{
 "cells": [
  {
   "cell_type": "code",
   "execution_count": null,
   "id": "e0f4bd60-51d8-425b-a8e6-6e3d251d24c7",
   "metadata": {},
   "outputs": [],
   "source": [
    "import pandas as pd\n",
    "import numpy as np\n",
    "import matplotlib.pyplot as plt\n",
    "import matplotlib.ticker as tck\n",
    "from pathlib import Path\n",
    "\n",
    "colors = [\"#E69F00\" ,\"#009E73\" ,\"#0072B2\" ,\"#999999\", \"#56B4E9\", \"#F0E442\", \"#CC79A7\", \"#D55E00\"]\n",
    "markers = [\"v\", \"x\", \"o\", \"^\", \"s\", \"<\", \">\", \"8\"]\n",
    "\n",
    "plt.rcParams.update({\n",
    "        'font.size': '18',\n",
    "        'svg.fonttype': 'none'\n",
    "})\n",
    "\n",
    "plt.rc('axes', axisbelow=True)\n",
    "\n",
    "%config Completer.use_jedi = False"
   ]
  },
  {
   "cell_type": "code",
   "execution_count": null,
   "id": "9364a4ce",
   "metadata": {},
   "outputs": [],
   "source": [
    "def make_line_chart(x,y, labels, xlabel=\"\", ylabel=\"\", name=\"result.png\", legend_location=\"best\"):\n",
    "    linewidth = 2\n",
    "    fig = plt.subplots(figsize =(6, 2.5))\n",
    "\n",
    "    plt.minorticks_on()\n",
    "    \n",
    "    plt.grid(color='lightgrey', linestyle='-', linewidth=1, which=\"minor\")\n",
    "    plt.grid(color='grey', linestyle='-', linewidth=1, which=\"major\")\n",
    "    \n",
    "    for x_values, y_values, label, color in zip(x, y, labels, colors):\n",
    "        plt.plot(x_values, y_values, label=label, linewidth=linewidth, color=color)\n",
    "        \n",
    "        \n",
    "    plt.xlabel(xlabel)\n",
    "    \n",
    "    plt.ylabel(ylabel)\n",
    "    \n",
    "    handles, labels = plt.gca().get_legend_handles_labels()\n",
    "    # sort both labels and handles by labels\n",
    "    labels, handles = zip(*sorted(zip(labels, handles), key=lambda t: int(t[0]) if t[0].isnumeric() else 0))\n",
    "    if legend_location == \"upper center\":\n",
    "        ncol = 4\n",
    "        height = (len(lables) / ncol + 1) * 0.2 + 1\n",
    "        plt.legend(handles, labels, frameon=False, ncol=ncol, loc=\"upper center\", bbox_to_anchor=(0.5,height), fontsize=14 ,labelspacing=1, columnspacing=2)\n",
    "    else:        \n",
    "        plt.legend(handles, labels, frameon=False, loc=\"lower right\", bbox_to_anchor=(0.85,0), fontsize=10 ,labelspacing=1, columnspacing=2)\n",
    "    \n",
    "    plt.savefig(name, bbox_inches='tight')\n",
    "    plt.show()\n",
    "    "
   ]
  },
  {
   "cell_type": "code",
   "execution_count": null,
   "id": "24ebb2a2",
   "metadata": {},
   "outputs": [],
   "source": [
    "def add_labels(x,y, precision):\n",
    "    overset = 0.1 * max(y)\n",
    "    for i in range(len(x)):\n",
    "        if precision == -1:\n",
    "            plt.text(i + 0.25, y[i] + overset, round(y[i]), ha = 'center')\n",
    "        else:\n",
    "            plt.text(i + 0.25, y[i] + overset, round(y[i], precision), ha = 'center')"
   ]
  },
  {
   "cell_type": "code",
   "execution_count": null,
   "id": "0a0d1fa6",
   "metadata": {},
   "outputs": [],
   "source": [
    "def make_bar_chart(x,y, xlabel=\"\", ylabel=\"\", name=\"result.png\", lables=True, lableprecision=-1):\n",
    "    barWidth = 0.25\n",
    "    fig = plt.subplots(figsize =(6, 2.5))\n",
    "    \n",
    "    plt.minorticks_on()\n",
    "    \n",
    "    plt.grid(color='lightgrey', linestyle='-', linewidth=1, which=\"minor\", axis=\"y\")\n",
    "    plt.grid(color='grey', linestyle='-', linewidth=1, which=\"major\", axis=\"y\")\n",
    "    \n",
    "    y = [val for _,val in sorted(zip(x,y))]\n",
    "    x.sort()\n",
    "    \n",
    "    x = [str(int(i)) if not pd.isna(i) else \"Never\" for i in x]\n",
    "\n",
    "    \n",
    "    num_elements_in_x = len(x)\n",
    "\n",
    "    # Set position of bar on X axis\\n\",\n",
    "    br1 = list(map(lambda x: x + barWidth, np.arange(num_elements_in_x)))\n",
    "\n",
    "    # Make the plot\\n\",\n",
    "    plt.bar(br1, y, color=colors, width=barWidth,edgecolor ='black')\n",
    "    \n",
    "    if lables:\n",
    "        add_labels(br1, y, lableprecision)\n",
    "    \n",
    "    # Adding Xticks\\n\",\n",
    "    plt.xlabel(xlabel)\n",
    "    plt.xticks([r + barWidth for r in range(num_elements_in_x)], x, minor=False)\n",
    "    plt.gca().xaxis.set_minor_locator(tck.NullLocator())\n",
    "    \n",
    "    plt.ylabel(ylabel)\n",
    "\n",
    "    ylim_max = max(y) * 1.3\n",
    "    plt.gca().set_ylim(None, ylim_max)\n",
    "\n",
    "    plt.savefig(name, bbox_inches='tight')\n",
    "    plt.show()\n",
    "    "
   ]
  },
  {
   "cell_type": "code",
   "execution_count": null,
   "id": "b9948c35-5b85-4367-b0eb-b1e0ecf60303",
   "metadata": {},
   "outputs": [],
   "source": [
    "def combine_column_and_file_name(column, file):\n",
    "    return f'{file}_{column}'"
   ]
  },
  {
   "cell_type": "code",
   "execution_count": null,
   "id": "171b5bc5-0a01-40f3-bcc3-c13cc4ee8cd1",
   "metadata": {},
   "outputs": [],
   "source": [
    "def get_data(columns: list[str]):\n",
    "    base_dir = Path('../experiment')\n",
    "    csv_files = base_dir.glob('*.csv')\n",
    "    \n",
    "    dfs = {file.name : pd.read_csv(file) for file in csv_files}\n",
    "    \n",
    "    res_df = pd.DataFrame()\n",
    "    for file_name, df in dfs.items():\n",
    "        for column in columns:\n",
    "            res_df[combine_column_and_file_name(file_name, column)] = df[column]\n",
    "    return res_df"
   ]
  },
  {
   "cell_type": "code",
   "execution_count": null,
   "id": "1dee77f6",
   "metadata": {},
   "outputs": [],
   "source": [
    "data = get_data([\"validate.DIV2K.psnr_scale_2\", \"Epoch\"])\n",
    "filtered_x = data.filter(regex=(\"Epoch_rfdn.*_600.csv\")).head(300).transpose()\n",
    "filtered_y = data.filter(regex=(\"validate\\.DIV2K.psnr_scale_2.*_600.csv\")).head(300).transpose()\n",
    "lables = [\"RFDN\", \"RFDN + RepVgg\"]\n",
    "make_line_chart(filtered_x.values, filtered_y.values, lables, \"Epoch\", \"DIV2K PSNR\", \"epoch_psnr_scale.svg\", legend_location=\"upper center\")"
   ]
  },
  {
   "cell_type": "code",
   "execution_count": null,
   "id": "cc6f6ef7-fc8c-46fc-a157-d36379cbafd6",
   "metadata": {},
   "outputs": [],
   "source": [
    "data = get_data([\"validate.mean_forward_pass_time\", \"config.epochs_before_pruning\"])\n",
    "filtered_y = data.filter(regex=(\"validate\\.mean_forward_pass_time_rfdn_advanced_600_epochs_before_pruning.*\")).mean()\n",
    "filtered_x = data.filter(regex=(\"config\\.epochs_before_pruning_rfdn_advanced_600_epochs_before_pruning.*\")).head(1)\n",
    "make_bar_chart(filtered_x.values[0], filtered_y.values * 1000, \"Epochs Before Pruning\", \"Time [ms]\", \"epochs_before_pruning_average_validation_time.svg\", True, lableprecision=1)"
   ]
  },
  {
   "cell_type": "code",
   "execution_count": null,
   "id": "9282843f",
   "metadata": {
    "scrolled": false
   },
   "outputs": [],
   "source": [
    "data = get_data([\"num_parameters\", \"config.epochs_before_pruning\"])\n",
    "filtered_y = data.filter(regex=(\"num_parameters_rfdn_advanced_600_epochs_before_pruning.*\")).min()\n",
    "filtered_x = data.filter(regex=(\"config\\.epochs_before_pruning_rfdn_advanced_600_epochs_before_pruning.*\")).head(1)\n",
    "make_bar_chart(filtered_x.values[0], filtered_y.values / 1000, \"Epochs Before Pruning\", \"Parameters [\\# in 1000]\", \"epochs_before_pruning_final_number_of_parameters.svg\", True, lableprecision=-1)"
   ]
  },
  {
   "cell_type": "code",
   "execution_count": null,
   "id": "510af0bf",
   "metadata": {
    "scrolled": false
   },
   "outputs": [],
   "source": [
    "data = get_data([\"num_parameters\", \"Epoch\"])\n",
    "filtered_x = data.filter(regex=(\"Epoch_rfdn_advanced_600_epochs_before_pruning.*\")).head(600).transpose()\n",
    "filtered_y = data.filter(regex=(\"num_parameters_rfdn_advanced_600_epochs_before_pruning.*\")).head(600).transpose()\n",
    "lables = [140, 180, 19, 250, 48, 98, \"Never\"]\n",
    "make_line_chart(filtered_x.values, filtered_y.values / 1000, lables, \"Epoch\", \"Parameters [\\# in 1000]\", \"epochs_before_pruning_number_of_parameters.svg\", legend_location=\"upper center\")"
   ]
  },
  {
   "cell_type": "code",
   "execution_count": null,
   "id": "79334f28",
   "metadata": {},
   "outputs": [],
   "source": [
    "data = get_data([\"validate.DIV2K.psnr_scale_2\", \"Epoch\"])\n",
    "filtered_x = data.filter(regex=(\"Epoch_rfdn_advanced_600_epochs_before_pruning.*\")).head(600).transpose()\n",
    "filtered_y = data.filter(regex=(\"validate\\.DIV2K.psnr_scale_2_rfdn_advanced_600_epochs_before_pruning.*\")).head(600).transpose()\n",
    "lables = [140, 180, 19, 250, 48, 98, \"Never\"]\n",
    "make_line_chart(filtered_x.values, filtered_y.values, lables, \"Epoch\", \"DIV2K PSNR\", \"epochs_before_pruning_div2k_psnr.svg\", legend_location=\"upper center\")"
   ]
  },
  {
   "cell_type": "code",
   "execution_count": null,
   "id": "e41bb476",
   "metadata": {},
   "outputs": [],
   "source": [
    "data = get_data([\"test.BSD100.psnr_scale_2\", \"config.batch_size_test\"])\n",
    "filtered_y = data.filter(regex=(\"test\\.BSD100\\.psnr_scale_2_rfdn_advanced_batch_size_test.*\")).head(1)\n",
    "filtered_x = data.filter(regex=(\"config\\.batch_size_test_rfdn_advanced_batch_size_test.*\")).head(1)\n",
    "make_bar_chart(filtered_x.values[0], filtered_y.values[0], \"Batch Size\", \"BSD100 PSNR\", \"batch_size_test_BSD100_PSNR.svg\", True, lableprecision=1)"
   ]
  },
  {
   "cell_type": "code",
   "execution_count": null,
   "id": "8704d843",
   "metadata": {},
   "outputs": [],
   "source": []
  }
 ],
 "metadata": {
  "kernelspec": {
   "display_name": "Python 3 (ipykernel)",
   "language": "python",
   "name": "python3"
  },
  "language_info": {
   "codemirror_mode": {
    "name": "ipython",
    "version": 3
   },
   "file_extension": ".py",
   "mimetype": "text/x-python",
   "name": "python",
   "nbconvert_exporter": "python",
   "pygments_lexer": "ipython3",
   "version": "3.10.2"
  }
 },
 "nbformat": 4,
 "nbformat_minor": 5
}
